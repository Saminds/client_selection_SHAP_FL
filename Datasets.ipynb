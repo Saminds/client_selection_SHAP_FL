{
 "cells": [
  {
   "cell_type": "code",
   "execution_count": null,
   "metadata": {
    "colab": {},
    "colab_type": "code",
    "id": "w121TZ72H5Dl"
   },
   "outputs": [],
   "source": [
    "# install pysyft for federated learning\n",
    "#!pip install syft[udacity]  "
   ]
  },
  {
   "cell_type": "code",
   "execution_count": null,
   "metadata": {
    "colab": {},
    "colab_type": "code",
    "id": "rQmuIqkmAtYN"
   },
   "outputs": [],
   "source": [
    "## this is the module required for federated learning\n",
    "#import syft as sy "
   ]
  },
  {
   "cell_type": "code",
   "execution_count": 1,
   "metadata": {
    "colab": {
     "base_uri": "https://localhost:8080/",
     "height": 102
    },
    "colab_type": "code",
    "id": "MGg5MF2yJTzi",
    "outputId": "f82d4948-c417-4a49-a0f5-c4793b39ce47",
    "scrolled": true
   },
   "outputs": [
    {
     "name": "stderr",
     "output_type": "stream",
     "text": [
      "UsageError: Line magic function `%tensorflow_version` not found.\n"
     ]
    }
   ],
   "source": [
    "%tensorflow_version 1.x   #ensure that TF 1.x is used when TF 2.x becomes the default "
   ]
  },
  {
   "cell_type": "code",
   "execution_count": 2,
   "metadata": {
    "colab": {},
    "colab_type": "code",
    "id": "5n6lCCvBHQha"
   },
   "outputs": [],
   "source": [
    "import torch\n",
    "import torch.nn as nn\n",
    "import torch.nn.functional as F\n",
    "import torch.optim as optim\n",
    "from torchvision import datasets, transforms\n",
    "# import helper\n",
    "import matplotlib.pyplot as plt\n",
    "import numpy as np\n",
    "import copy\n",
    "import random"
   ]
  },
  {
   "cell_type": "code",
   "execution_count": 3,
   "metadata": {
    "colab": {
     "base_uri": "https://localhost:8080/",
     "height": 35
    },
    "colab_type": "code",
    "id": "fvIc_q9pJTj2",
    "outputId": "f7fe3b8e-7816-436c-9cb8-07791b6998c0"
   },
   "outputs": [
    {
     "data": {
      "text/plain": [
       "True"
      ]
     },
     "execution_count": 3,
     "metadata": {},
     "output_type": "execute_result"
    }
   ],
   "source": [
    "torch.cuda.is_available()"
   ]
  },
  {
   "cell_type": "code",
   "execution_count": 4,
   "metadata": {
    "colab": {},
    "colab_type": "code",
    "id": "K5VLsl7ZyDnV"
   },
   "outputs": [],
   "source": [
    "device = torch.device(\"cuda\" if torch.cuda.is_available() else \"cpu\")"
   ]
  },
  {
   "cell_type": "code",
   "execution_count": 5,
   "metadata": {
    "colab": {
     "base_uri": "https://localhost:8080/",
     "height": 35
    },
    "colab_type": "code",
    "id": "1PIXFYsSHmtW",
    "outputId": "70f9ebe0-5ced-48ea-ddd4-7c02f3defe52"
   },
   "outputs": [
    {
     "data": {
      "text/plain": [
       "device(type='cuda')"
      ]
     },
     "execution_count": 5,
     "metadata": {},
     "output_type": "execute_result"
    }
   ],
   "source": [
    "device"
   ]
  },
  {
   "cell_type": "code",
   "execution_count": 6,
   "metadata": {
    "colab": {
     "base_uri": "https://localhost:8080/",
     "height": 366,
     "referenced_widgets": [
      "f680b7f700a24e1282a15e0aba6da54f",
      "589bd5419424481bb6acce1a5d874078",
      "ebf20184873148a7925e36accb6ae766",
      "7c82c5696bf243d4b771e757f16e339f",
      "8935ff4d46b64afba6c7b3bbb1cc850b",
      "fbc0dd13019240b9a1c6f4951cfc4132",
      "7881ae6c03f94aa79ab5264737ace0b5",
      "f6dc44afaaf54792b9f1f5d36025a240",
      "a425993acb7d454e8ccf873ea23e3b4a",
      "d0d358e35cf24cbeacc6ba344f569234",
      "b2451377773b44e39b73400d51b4e3f5",
      "7c03b708cb704666895e2471b418700f",
      "2de40f44d67949cb98bf88c1ab438cdc",
      "43792c5ab55740629de046222675bb3b",
      "d706d5be5f2f4b99ae691ae5fcdecdb8",
      "8150b569c8e04470a71af28905cc6d15",
      "0765b93dabc94efb96e28537d1561b41",
      "393fac430481413b8e3ffe588dddda89",
      "53e7c0c08ff84061a294c4d97c11c03b",
      "cb7d27331fa245c08ca5802db05a5dd8",
      "824cb2a27281408b80903f805595111c",
      "35136b7cc26546aea65ac5c3cc3cad30",
      "8667b4f015ae428883179043d7b44375",
      "beeaa44c4a71421f912c1b1e08ef9e89",
      "49266dc4491d436dbd2971b5b731be40",
      "4e48f3051a5e48ef880ab100b332257b",
      "ba1fc07a72e2416c85ede7f0959e2faf",
      "6d48700de2614b8a88603e5d6d97f13c",
      "e32588dc21cd437786917cd1a59e6fff",
      "e5b58518eaed4218be65d6a56ed23fb9",
      "c7e41cdd3b154b8c9de6742fae06120b",
      "5e80ea49bc16431cbbe1adcdc81a50db"
     ]
    },
    "colab_type": "code",
    "id": "dpjJ45WsPjZJ",
    "outputId": "8737cca0-e0e1-498b-ac5a-316c6b26bdf7"
   },
   "outputs": [],
   "source": [
    "# Define a transform to normalize the data\n",
    "transform = transforms.Compose([transforms.ToTensor(),\n",
    "                                transforms.Normalize((0.5,), (0.5,))\n",
    "                              ])\n",
    "# Download and load the training data\n",
    "trainset = datasets.MNIST('~/.pytorch/MNIST_data/', download=True, train=True, transform=transform)\n",
    "testset = datasets.MNIST('~/.pytorch/MNIST_data/', download=True, train=False, transform=transform)\n",
    "trainloader = torch.utils.data.DataLoader(trainset, batch_size=64, shuffle=True)"
   ]
  },
  {
   "cell_type": "code",
   "execution_count": null,
   "metadata": {
    "colab": {
     "base_uri": "https://localhost:8080/",
     "height": 69
    },
    "colab_type": "code",
    "id": "z6wpSMmFals8",
    "outputId": "a2c8eb4e-4ce3-4b87-e348-aefd8fe08c77"
   },
   "outputs": [],
   "source": [
    "dataiter = iter(trainloader)\n",
    "images, labels = dataiter.next()\n",
    "print(type(images))\n",
    "print(images.shape)\n",
    "print(labels.shape)"
   ]
  },
  {
   "cell_type": "code",
   "execution_count": null,
   "metadata": {},
   "outputs": [],
   "source": [
    "images.__len__()"
   ]
  },
  {
   "cell_type": "code",
   "execution_count": null,
   "metadata": {
    "colab": {
     "base_uri": "https://localhost:8080/",
     "height": 283
    },
    "colab_type": "code",
    "id": "dtoJz_e1a_d2",
    "outputId": "3dadd25a-f2b2-4e9c-ee91-148566cf13d6",
    "scrolled": true
   },
   "outputs": [],
   "source": [
    "plt.imshow(images[1].numpy().squeeze(), cmap='Greys_r');"
   ]
  },
  {
   "cell_type": "code",
   "execution_count": null,
   "metadata": {
    "colab": {
     "base_uri": "https://localhost:8080/",
     "height": 282
    },
    "colab_type": "code",
    "id": "ArhmlV_yAle-",
    "outputId": "c9a20bb6-f4c7-4d93-a89e-a800da5d1a17"
   },
   "outputs": [],
   "source": [
    " plt.imshow((image+torch.Tensor(np.random.normal(0.0, 0.25, (1,28,28)))).numpy().squeeze(), cmap='Greys_r')"
   ]
  },
  {
   "cell_type": "code",
   "execution_count": null,
   "metadata": {
    "colab": {
     "base_uri": "https://localhost:8080/",
     "height": 282
    },
    "colab_type": "code",
    "id": "H2T0M5BXAyB6",
    "outputId": "12de2290-8b49-45e5-b5db-25aecf7c5dfb"
   },
   "outputs": [],
   "source": [
    "plt.imshow((image+torch.Tensor(np.random.normal(0.0, 0.5, (1,28,28)))).numpy().squeeze(), cmap='Greys_r')"
   ]
  },
  {
   "cell_type": "markdown",
   "metadata": {
    "colab_type": "text",
    "id": "7refuGa8DSri"
   },
   "source": [
    "# Structure of the MNIST dataset as retrieved by torchvision.datasets.MNIST\n",
    "1. length of trainset: 60000 \n",
    "2. each element of trainset is a tuple (image, label) where image is a 1x28x28 tensor and label is an integer in range 0-9 inclusive\n"
   ]
  },
  {
   "cell_type": "markdown",
   "metadata": {
    "colab_type": "text",
    "id": "CgsRGDMQdGt-"
   },
   "source": [
    "# Splitting of Data\n",
    "1. Same distribution with same data size: splitting data set into five parts with the same size randomly, ensuring number of images with the same label is mutually equal among the five parts"
   ]
  },
  {
   "cell_type": "code",
   "execution_count": 7,
   "metadata": {
    "colab": {},
    "colab_type": "code",
    "id": "taODoxQVdaWs"
   },
   "outputs": [],
   "source": [
    "#create lists for sorting of data\n",
    "trainset_0 = []\n",
    "trainset_1 = []\n",
    "trainset_2 = []\n",
    "trainset_3 = []\n",
    "trainset_4 = []\n",
    "trainset_5 = []\n",
    "trainset_6 = []\n",
    "trainset_7 = []\n",
    "trainset_8 = []\n",
    "trainset_9 = []"
   ]
  },
  {
   "cell_type": "code",
   "execution_count": 8,
   "metadata": {
    "colab": {},
    "colab_type": "code",
    "id": "BG3I7y5GooTt"
   },
   "outputs": [],
   "source": [
    "#creates a dictionary called dictionaryData to sort the different labels\n",
    "dictionaryData = {}\n",
    "for k in range(10):\n",
    "  dictionaryData['trainset_'+str(k)] = []"
   ]
  },
  {
   "cell_type": "code",
   "execution_count": 9,
   "metadata": {},
   "outputs": [
    {
     "data": {
      "text/plain": [
       "dict_keys(['trainset_0', 'trainset_1', 'trainset_2', 'trainset_3', 'trainset_4', 'trainset_5', 'trainset_6', 'trainset_7', 'trainset_8', 'trainset_9'])"
      ]
     },
     "execution_count": 9,
     "metadata": {},
     "output_type": "execute_result"
    }
   ],
   "source": [
    "dictionaryData.keys()"
   ]
  },
  {
   "cell_type": "code",
   "execution_count": 10,
   "metadata": {},
   "outputs": [
    {
     "data": {
      "text/plain": [
       "{'trainset_0': [],\n",
       " 'trainset_1': [],\n",
       " 'trainset_2': [],\n",
       " 'trainset_3': [],\n",
       " 'trainset_4': [],\n",
       " 'trainset_5': [],\n",
       " 'trainset_6': [],\n",
       " 'trainset_7': [],\n",
       " 'trainset_8': [],\n",
       " 'trainset_9': []}"
      ]
     },
     "execution_count": 10,
     "metadata": {},
     "output_type": "execute_result"
    }
   ],
   "source": [
    "dictionaryData"
   ]
  },
  {
   "cell_type": "code",
   "execution_count": 13,
   "metadata": {},
   "outputs": [
    {
     "data": {
      "text/plain": [
       "4"
      ]
     },
     "execution_count": 13,
     "metadata": {},
     "output_type": "execute_result"
    }
   ],
   "source": [
    "trainset[2][1]"
   ]
  },
  {
   "cell_type": "code",
   "execution_count": 14,
   "metadata": {
    "colab": {},
    "colab_type": "code",
    "id": "BG3I7y5GooTt"
   },
   "outputs": [],
   "source": [
    "for i in range(60000):\n",
    "  dictionaryData['trainset_'+str(trainset[i][1])].append(trainset[i])"
   ]
  },
  {
   "cell_type": "code",
   "execution_count": null,
   "metadata": {},
   "outputs": [],
   "source": [
    "6000-1"
   ]
  },
  {
   "cell_type": "code",
   "execution_count": null,
   "metadata": {},
   "outputs": [],
   "source": [
    "dictionaryData['trainset_0'+.append(trainset[i][0:5999])\n",
    "dictionaryData['trainset_0'+.append(trainset[i][5999:5999+6000+1])\n",
    "dictionaryData['trainset_0'+.append(trainset[i][5999:5999+6000+1])\n"
   ]
  },
  {
   "cell_type": "code",
   "execution_count": null,
   "metadata": {
    "colab": {
     "base_uri": "https://localhost:8080/",
     "height": 187
    },
    "colab_type": "code",
    "id": "FBi2_t3nojqq",
    "outputId": "8139ad37-2c0b-495d-9515-567c5b81a596"
   },
   "outputs": [],
   "source": [
    "for i in range(10):\n",
    "  print (\"number of \" + str(i) + \": \" + str(len(dictionaryData['trainset_' + str(i)])))\n",
    "\n",
    "#based on results, we will be using 5420 of each of the labels to setup our testbed."
   ]
  },
  {
   "cell_type": "code",
   "execution_count": null,
   "metadata": {
    "colab": {},
    "colab_type": "code",
    "id": "hqStdxQksn0D"
   },
   "outputs": [],
   "source": [
    "#creates a dictionary1 for splitting of data in case 1\n",
    "\n",
    "dictionary1 = {}\n",
    "for k in range(5):\n",
    "  startIndex = 1084*k\n",
    "  stopIndex = 1084*(k+1)\n",
    "  dictionary1['trainset_1_'+str(k+1)] = []\n",
    "  for i in range(10):\n",
    "    dictionary1['trainset_1_'+str(k+1)].extend(dictionaryData['trainset_'+str(i)][startIndex:stopIndex])"
   ]
  },
  {
   "cell_type": "code",
   "execution_count": null,
   "metadata": {
    "colab": {
     "base_uri": "https://localhost:8080/",
     "height": 104
    },
    "colab_type": "code",
    "id": "-RBUoBzejz65",
    "outputId": "b9bc40f9-e2cb-4b06-fe32-7c6ad32ba839"
   },
   "outputs": [],
   "source": [
    "for i in range(5):\n",
    "  print(len(dictionary1['trainset_1_'+str(i+1)]))"
   ]
  },
  {
   "cell_type": "markdown",
   "metadata": {
    "colab_type": "text",
    "id": "Skni7TZDdpRC"
   },
   "source": [
    "2. Different distribution with same data size. Split data set into five parts with same size, but labels are different. Let data provider 1 have 40% of label '0', 40% of label '1' and the data points with the remaining eight labels shared the remaining 20% of data provider 1's data. The rest shall be done in a same manner."
   ]
  },
  {
   "cell_type": "code",
   "execution_count": null,
   "metadata": {
    "colab": {
     "base_uri": "https://localhost:8080/",
     "height": 102
    },
    "colab_type": "code",
    "id": "FCfH6CHPd_YF",
    "outputId": "4f69b5da-c0fa-497f-81fb-3118ec9ec770"
   },
   "outputs": [],
   "source": [
    "#creates a dictionary2 for splitting of data in case 2\n",
    "\n",
    "dictionary2 = {}\n",
    "for k in range(5):\n",
    "  dictionary2['trainset_2_'+str(k+1)] = []\n",
    "\n",
    "#create data for trainset_2_1 which has 40% of 0 and 1\n",
    "dictionary2['trainset_2_1'].extend(dictionaryData['trainset_0'][0:int(10840*0.4)]) # 0: indexes 0:4336  \n",
    "dictionary2['trainset_2_1'].extend(dictionaryData['trainset_1'][0:int(10840*0.4)]) # 1: indexes 0:4336\n",
    "for a in range(2,10):\n",
    "  dictionary2['trainset_2_1'].extend(dictionaryData['trainset_'+str(a)][0:271]) # 2-9: indexes 0:271\n",
    "\n",
    "#create data for trainset_2_2 which has 40% of 2 and 3\n",
    "dictionary2['trainset_2_2'].extend(dictionaryData['trainset_0'][int(10840*0.4):int(10840*0.4)+271]) # 0: indexes 2168:2981\n",
    "dictionary2['trainset_2_2'].extend(dictionaryData['trainset_1'][int(10840*0.4):int(10840*0.4)+271]) # 1: indexes 2168:2981\n",
    "dictionary2['trainset_2_2'].extend(dictionaryData['trainset_2'][271:int(10840*0.4)+271]) #2: indexes 271:4607\n",
    "dictionary2['trainset_2_2'].extend(dictionaryData['trainset_3'][271:int(10840*0.4)+271]) #3: indexes 271:4607\n",
    "for b in range(4,10):\n",
    "  dictionary2['trainset_2_2'].extend(dictionaryData['trainset_'+str(b)][271:(271*2)]) # 4-9: indexes 271:542\n",
    "\n",
    "#create data for trainset_2_3 which has 40% of 4 and 5\n",
    "for i in range(4):\n",
    "  dictionary2['trainset_2_3'].extend(dictionaryData['trainset_'+str(i)][int(10840*0.4)+271:int(10840*0.4)+271*2]) #0-3: indexes 2981:3794\n",
    "dictionary2['trainset_2_3'].extend(dictionaryData['trainset_4'][(271*2):int(10840*0.4)+271*2]) #4: indexes 1626:3794\n",
    "dictionary2['trainset_2_3'].extend(dictionaryData['trainset_5'][(271*2):int(10840*0.4)+271*2]) #5: indexes 1626:3794\n",
    "for c in range(6,10):\n",
    "  dictionary2['trainset_2_3'].extend(dictionaryData['trainset_'+str(c)][271*2:(271*3)]) # 6-9: indexes 1626:2439\n",
    "\n",
    "#create data for trainset_2_4 which has 40% of 6 and 7\n",
    "for i in range(6):\n",
    "  dictionary2['trainset_2_4'].extend(dictionaryData['trainset_'+str(i)][int(10840*0.4)+271*2:int(10840*0.4)+271*3]) #0-5: indexes 3794:4607\n",
    "dictionary2['trainset_2_4'].extend(dictionaryData['trainset_6'][271*3:int(10840*0.4)+271*3]) #6: indexes 2439:4607\n",
    "dictionary2['trainset_2_4'].extend(dictionaryData['trainset_7'][271*3:int(10840*0.4)+271*3]) #7: indexes 2439:4607\n",
    "for d in range(8,10):\n",
    "  dictionary2['trainset_2_4'].extend(dictionaryData['trainset_'+str(d)][271*3:(271*4)]) # 8-9: indexes 2439:3252\n",
    "\n",
    "#create data for trainset_2_5 which has 40% of 8 and 9\n",
    "for i in range(8):\n",
    "  dictionary2['trainset_2_5'].extend(dictionaryData['trainset_'+str(i)][int(10840*0.4)+271*3:int(10840*0.4)+271*4])\n",
    "for e in range(8,10):\n",
    "  dictionary2['trainset_2_5'].extend(dictionaryData['trainset_'+str(e)][271*4:int(10840*0.4)+271*4])\n",
    "\n",
    "for i in range(5):\n",
    "  print(\"trainset_2_\", str(i+1), len(dictionary2['trainset_2_'+str(i+1)]))"
   ]
  },
  {
   "cell_type": "markdown",
   "metadata": {
    "colab_type": "text",
    "id": "FCMZqZpfeAXS"
   },
   "source": [
    "3. Same distribution with different data size. Split data set into five parts randomly, ratio of data size is 2:3:4:5:6. Ensure each part have the same number of images with different labels."
   ]
  },
  {
   "cell_type": "code",
   "execution_count": null,
   "metadata": {
    "colab": {
     "base_uri": "https://localhost:8080/",
     "height": 104
    },
    "colab_type": "code",
    "id": "qc7PFvkTeIWK",
    "outputId": "a4af7ede-28fd-4151-e423-0ef4af93b838"
   },
   "outputs": [],
   "source": [
    "#creates a dictionary3 for splitting of data in case 3\n",
    "\n",
    "dictionary3 = {}\n",
    "for k in range(5):\n",
    "  dictionary3['trainset_3_'+str(k+1)] = []\n",
    "for i in range(10):\n",
    "  dictionary3['trainset_3_1'].extend(dictionaryData['trainset_'+str(i)][0:271*(2)])\n",
    "  dictionary3['trainset_3_2'].extend(dictionaryData['trainset_'+str(i)][271*(2):271*(5)])\n",
    "  dictionary3['trainset_3_3'].extend(dictionaryData['trainset_'+str(i)][271*(5):271*(9)])\n",
    "  dictionary3['trainset_3_4'].extend(dictionaryData['trainset_'+str(i)][271*(9):271*(14)])\n",
    "  dictionary3['trainset_3_5'].extend(dictionaryData['trainset_'+str(i)][271*(14):271*(20)])\n",
    "\n",
    "for i in range(5):\n",
    "  print(len(dictionary3['trainset_3_'+str(i+1)]))"
   ]
  },
  {
   "cell_type": "markdown",
   "metadata": {
    "colab_type": "text",
    "id": "Ep4GJpd2eJTa"
   },
   "source": [
    "4. Split data set into five parts with the same size randomly. Ensure number of images with the same label is mutually equal among the five parts. change the labels of different data providers randomly by 0%, 5%, 10%, 15% and 20%."
   ]
  },
  {
   "cell_type": "code",
   "execution_count": null,
   "metadata": {
    "colab": {},
    "colab_type": "code",
    "id": "IisibBl0eVmJ"
   },
   "outputs": [],
   "source": [
    "dictionary4 = {}"
   ]
  },
  {
   "cell_type": "code",
   "execution_count": null,
   "metadata": {
    "colab": {},
    "colab_type": "code",
    "id": "NZo2CN40HJ-f"
   },
   "outputs": [],
   "source": [
    "# deepcopy the data in dictionary1\n",
    "for i in range(len(dictionary1)):\n",
    "  dictionary4[\"trainset_4_\"+str(i+1)] = copy.deepcopy(dictionary1[\"trainset_1_\"+str(i+1)]) "
   ]
  },
  {
   "cell_type": "code",
   "execution_count": null,
   "metadata": {
    "colab": {},
    "colab_type": "code",
    "id": "RIi6JnLFIkaX"
   },
   "outputs": [],
   "source": [
    "percentageMislabel = {\"trainset_4_1\": 0, \"trainset_4_2\": 0.05, \"trainset_4_3\": 0.10, \"trainset_4_4\": 0.15, \"trainset_4_5\": 0.20}"
   ]
  },
  {
   "cell_type": "code",
   "execution_count": null,
   "metadata": {
    "colab": {
     "base_uri": "https://localhost:8080/",
     "height": 277
    },
    "colab_type": "code",
    "id": "0H2-ufy1JSL-",
    "outputId": "a6e77c42-6224-4ca5-c3f8-a45dcabfbbce"
   },
   "outputs": [],
   "source": [
    "for i in range(len(dictionary4)):\n",
    "  trainset_4_i = \"trainset_4_\" + str(i+1)\n",
    "  numMislabel = int(percentageMislabel[trainset_4_i] * len(dictionary4[trainset_4_i]))\n",
    "  print(\"For trainset_\" + str(i) + \", number of mislabelled data is: \", numMislabel)\n",
    "  indexesMislabel = random.sample(range(len(dictionary4[trainset_4_i])), numMislabel) # generate a random sample of indices without replacement)\n",
    "  print(len(indexesMislabel))\n",
    "\n",
    "  for k in indexesMislabel: \n",
    "    trueLabel = dictionary4[trainset_4_i][i][1]\n",
    "    possibleMislabel = [x for x in range(10) if x != trueLabel] # list of all the possible mislabels to choose from\n",
    "    dictionary4[trainset_4_i][k] = (dictionary4[trainset_4_i][k][0], random.choice(possibleMislabel)) # change the label for the k-th entry \n",
    "  print(\"Done\", i)\n",
    "    "
   ]
  },
  {
   "cell_type": "code",
   "execution_count": null,
   "metadata": {
    "colab": {
     "base_uri": "https://localhost:8080/",
     "height": 283
    },
    "colab_type": "code",
    "id": "qvsS9zpuXHBy",
    "outputId": "0b71bee6-5ab7-4925-c50d-4f1e46dbcdd9"
   },
   "outputs": [],
   "source": [
    "index = 6\n",
    "plt.imshow(dictionary4[\"trainset_4_4\"][index][0].numpy().squeeze(), cmap='Greys_r')\n",
    "print(\"The label is :\", dictionary4[\"trainset_4_4\"][index][1])"
   ]
  },
  {
   "cell_type": "markdown",
   "metadata": {
    "colab_type": "text",
    "id": "4sfoIL9CeW8O"
   },
   "source": [
    "5. Split data set into five parts with the same size. Generate 0-4x Gaussian noise where 0x is feature without noise"
   ]
  },
  {
   "cell_type": "code",
   "execution_count": null,
   "metadata": {
    "colab": {},
    "colab_type": "code",
    "id": "k0smFe4Iegd5"
   },
   "outputs": [],
   "source": [
    "dictionary5 = {}"
   ]
  },
  {
   "cell_type": "code",
   "execution_count": null,
   "metadata": {
    "colab": {},
    "colab_type": "code",
    "id": "aABRzlJDJ9Zj"
   },
   "outputs": [],
   "source": [
    "# deepcopy the data in dictionary1\n",
    "for i in range(len(dictionary1)):\n",
    "  dictionary5[\"trainset_5_\"+str(i+1)] = copy.deepcopy(dictionary1[\"trainset_1_\"+str(i+1)])"
   ]
  },
  {
   "cell_type": "code",
   "execution_count": null,
   "metadata": {
    "colab": {},
    "colab_type": "code",
    "id": "2rgc2LR3J9jJ"
   },
   "outputs": [],
   "source": [
    "percentageNoise = {\"trainset_5_2\": 0.25, \"trainset_5_3\": 0.5, \"trainset_5_4\": 0.75, \"trainset_5_5\": 1.0}\n",
    "#trainset_5_1 is not varied with noise"
   ]
  },
  {
   "cell_type": "code",
   "execution_count": null,
   "metadata": {
    "colab": {},
    "colab_type": "code",
    "id": "qMJwQ4jehsgE"
   },
   "outputs": [],
   "source": [
    "for i in range(1, len(dictionary5)):\n",
    "  trainset_5_i = \"trainset_5_\" + str(i+1)\n",
    "  for index in range(len(dictionary5[trainset_5_i])):\n",
    "     dictionary5[trainset_5_i][index] = (dictionary5[trainset_5_i][index][0] + \\\n",
    "                                         torch.Tensor(np.random.normal(0.0, percentageNoise[trainset_5_i], (1,28,28))), \\\n",
    "                                         dictionary5[trainset_5_i][index][1])\n"
   ]
  },
  {
   "cell_type": "code",
   "execution_count": null,
   "metadata": {
    "colab": {
     "base_uri": "https://localhost:8080/",
     "height": 283
    },
    "colab_type": "code",
    "id": "9aLocU9ShsqI",
    "outputId": "abd0d92e-c5d2-4bfd-857f-cc9529ffeb12"
   },
   "outputs": [],
   "source": [
    "plt.imshow(dictionary5[\"trainset_5_2\"][0][0].numpy().squeeze(), cmap='Greys_r')"
   ]
  },
  {
   "cell_type": "code",
   "execution_count": null,
   "metadata": {
    "colab": {},
    "colab_type": "code",
    "id": "TxZsuNaMgZbF"
   },
   "outputs": [],
   "source": [
    "# root_dir = \"./data/OurMNIST\"\n",
    "base_dir = \"./data/OurMNIST/\""
   ]
  },
  {
   "cell_type": "code",
   "execution_count": null,
   "metadata": {
    "colab": {},
    "colab_type": "code",
    "id": "-G9otgvNv1Z_"
   },
   "outputs": [],
   "source": [
    "import pickle"
   ]
  },
  {
   "cell_type": "code",
   "execution_count": null,
   "metadata": {
    "colab": {},
    "colab_type": "code",
    "id": "CLPpJx_DkYQf"
   },
   "outputs": [],
   "source": [
    "dictionary1File = open(base_dir+\"dictionary1.out\", \"wb\")\n",
    "pickle.dump(dictionary1, dictionary1File)\n",
    "dictionary1File.close()\n",
    "\n",
    "dictionary2File = open(base_dir+\"dictionary2.out\", \"wb\")\n",
    "pickle.dump(dictionary2, dictionary2File)\n",
    "dictionary2File.close()\n",
    "\n",
    "dictionary3File = open(base_dir+\"dictionary3.out\", \"wb\")\n",
    "pickle.dump(dictionary3, dictionary3File)\n",
    "dictionary3File.close()\n",
    "\n",
    "dictionary4File = open(base_dir+\"dictionary4.out\", \"wb\")\n",
    "pickle.dump(dictionary4, dictionary4File)\n",
    "dictionary4File.close()\n",
    "\n",
    "dictionary5File = open(base_dir+\"dictionary5.out\", \"wb\")\n",
    "pickle.dump(dictionary5, dictionary5File)\n",
    "dictionary5File.close()"
   ]
  },
  {
   "cell_type": "code",
   "execution_count": null,
   "metadata": {
    "colab": {},
    "colab_type": "code",
    "id": "hDR_jI74kvci"
   },
   "outputs": [],
   "source": [
    "dictionary2File = open(base_dir+\"dictionary2.out\", \"wb\")\n",
    "pickle.dump(dictionary2, dictionary2File)\n",
    "dictionary2File.close()"
   ]
  },
  {
   "cell_type": "code",
   "execution_count": null,
   "metadata": {
    "colab": {
     "base_uri": "https://localhost:8080/",
     "height": 34
    },
    "colab_type": "code",
    "id": "D-kte2WwgzGG",
    "outputId": "cd07e365-d576-4488-8b5f-906a89bcf061"
   },
   "outputs": [],
   "source": [
    "dictionary2['trainset_2_1'][0][1]"
   ]
  },
  {
   "cell_type": "code",
   "execution_count": null,
   "metadata": {
    "colab": {
     "base_uri": "https://localhost:8080/",
     "height": 1000
    },
    "colab_type": "code",
    "id": "FypkvlvfdvAp",
    "outputId": "c502cb93-769d-4bdd-c527-de62d344c409"
   },
   "outputs": [],
   "source": [
    "### check dictionary2\n",
    "for i in range(5):\n",
    "  theTrain = dictionary2[\"trainset_2_\"+str(i+1)]\n",
    "  total = len(theTrain)\n",
    "  count = {}\n",
    "  for k in range(10):\n",
    "    count[k] = 0\n",
    "  for item in theTrain:\n",
    "    key = item[1]\n",
    "    count[key] += 1\n",
    "  print('\\n',\"trainset_2_\"+str(i+1), sep='')\n",
    "  for i in range(10):\n",
    "    print(\"percentage of\", i, \"is: \", count[i]/total*100)\n",
    "\n",
    "    "
   ]
  },
  {
   "cell_type": "code",
   "execution_count": null,
   "metadata": {
    "colab": {},
    "colab_type": "code",
    "id": "h7lRNRBshPKj"
   },
   "outputs": [],
   "source": []
  },
  {
   "cell_type": "code",
   "execution_count": null,
   "metadata": {},
   "outputs": [],
   "source": []
  },
  {
   "cell_type": "code",
   "execution_count": null,
   "metadata": {},
   "outputs": [],
   "source": []
  },
  {
   "cell_type": "code",
   "execution_count": null,
   "metadata": {},
   "outputs": [],
   "source": []
  },
  {
   "cell_type": "code",
   "execution_count": null,
   "metadata": {},
   "outputs": [],
   "source": []
  },
  {
   "cell_type": "code",
   "execution_count": null,
   "metadata": {},
   "outputs": [],
   "source": []
  }
 ],
 "metadata": {
  "accelerator": "GPU",
  "colab": {
   "collapsed_sections": [],
   "name": "reTestbed.ipynb",
   "provenance": []
  },
  "kernelspec": {
   "display_name": "venv_",
   "language": "python",
   "name": "venv_"
  },
  "language_info": {
   "codemirror_mode": {
    "name": "ipython",
    "version": 3
   },
   "file_extension": ".py",
   "mimetype": "text/x-python",
   "name": "python",
   "nbconvert_exporter": "python",
   "pygments_lexer": "ipython3",
   "version": "3.7.9"
  },
  "widgets": {
   "application/vnd.jupyter.widget-state+json": {
    "0765b93dabc94efb96e28537d1561b41": {
     "model_module": "@jupyter-widgets/controls",
     "model_name": "HBoxModel",
     "state": {
      "_dom_classes": [],
      "_model_module": "@jupyter-widgets/controls",
      "_model_module_version": "1.5.0",
      "_model_name": "HBoxModel",
      "_view_count": null,
      "_view_module": "@jupyter-widgets/controls",
      "_view_module_version": "1.5.0",
      "_view_name": "HBoxView",
      "box_style": "",
      "children": [
       "IPY_MODEL_53e7c0c08ff84061a294c4d97c11c03b",
       "IPY_MODEL_cb7d27331fa245c08ca5802db05a5dd8"
      ],
      "layout": "IPY_MODEL_393fac430481413b8e3ffe588dddda89"
     }
    },
    "2de40f44d67949cb98bf88c1ab438cdc": {
     "model_module": "@jupyter-widgets/controls",
     "model_name": "ProgressStyleModel",
     "state": {
      "_model_module": "@jupyter-widgets/controls",
      "_model_module_version": "1.5.0",
      "_model_name": "ProgressStyleModel",
      "_view_count": null,
      "_view_module": "@jupyter-widgets/base",
      "_view_module_version": "1.2.0",
      "_view_name": "StyleView",
      "bar_color": null,
      "description_width": "initial"
     }
    },
    "35136b7cc26546aea65ac5c3cc3cad30": {
     "model_module": "@jupyter-widgets/base",
     "model_name": "LayoutModel",
     "state": {
      "_model_module": "@jupyter-widgets/base",
      "_model_module_version": "1.2.0",
      "_model_name": "LayoutModel",
      "_view_count": null,
      "_view_module": "@jupyter-widgets/base",
      "_view_module_version": "1.2.0",
      "_view_name": "LayoutView",
      "align_content": null,
      "align_items": null,
      "align_self": null,
      "border": null,
      "bottom": null,
      "display": null,
      "flex": null,
      "flex_flow": null,
      "grid_area": null,
      "grid_auto_columns": null,
      "grid_auto_flow": null,
      "grid_auto_rows": null,
      "grid_column": null,
      "grid_gap": null,
      "grid_row": null,
      "grid_template_areas": null,
      "grid_template_columns": null,
      "grid_template_rows": null,
      "height": null,
      "justify_content": null,
      "justify_items": null,
      "left": null,
      "margin": null,
      "max_height": null,
      "max_width": null,
      "min_height": null,
      "min_width": null,
      "object_fit": null,
      "object_position": null,
      "order": null,
      "overflow": null,
      "overflow_x": null,
      "overflow_y": null,
      "padding": null,
      "right": null,
      "top": null,
      "visibility": null,
      "width": null
     }
    },
    "393fac430481413b8e3ffe588dddda89": {
     "model_module": "@jupyter-widgets/base",
     "model_name": "LayoutModel",
     "state": {
      "_model_module": "@jupyter-widgets/base",
      "_model_module_version": "1.2.0",
      "_model_name": "LayoutModel",
      "_view_count": null,
      "_view_module": "@jupyter-widgets/base",
      "_view_module_version": "1.2.0",
      "_view_name": "LayoutView",
      "align_content": null,
      "align_items": null,
      "align_self": null,
      "border": null,
      "bottom": null,
      "display": null,
      "flex": null,
      "flex_flow": null,
      "grid_area": null,
      "grid_auto_columns": null,
      "grid_auto_flow": null,
      "grid_auto_rows": null,
      "grid_column": null,
      "grid_gap": null,
      "grid_row": null,
      "grid_template_areas": null,
      "grid_template_columns": null,
      "grid_template_rows": null,
      "height": null,
      "justify_content": null,
      "justify_items": null,
      "left": null,
      "margin": null,
      "max_height": null,
      "max_width": null,
      "min_height": null,
      "min_width": null,
      "object_fit": null,
      "object_position": null,
      "order": null,
      "overflow": null,
      "overflow_x": null,
      "overflow_y": null,
      "padding": null,
      "right": null,
      "top": null,
      "visibility": null,
      "width": null
     }
    },
    "43792c5ab55740629de046222675bb3b": {
     "model_module": "@jupyter-widgets/base",
     "model_name": "LayoutModel",
     "state": {
      "_model_module": "@jupyter-widgets/base",
      "_model_module_version": "1.2.0",
      "_model_name": "LayoutModel",
      "_view_count": null,
      "_view_module": "@jupyter-widgets/base",
      "_view_module_version": "1.2.0",
      "_view_name": "LayoutView",
      "align_content": null,
      "align_items": null,
      "align_self": null,
      "border": null,
      "bottom": null,
      "display": null,
      "flex": null,
      "flex_flow": null,
      "grid_area": null,
      "grid_auto_columns": null,
      "grid_auto_flow": null,
      "grid_auto_rows": null,
      "grid_column": null,
      "grid_gap": null,
      "grid_row": null,
      "grid_template_areas": null,
      "grid_template_columns": null,
      "grid_template_rows": null,
      "height": null,
      "justify_content": null,
      "justify_items": null,
      "left": null,
      "margin": null,
      "max_height": null,
      "max_width": null,
      "min_height": null,
      "min_width": null,
      "object_fit": null,
      "object_position": null,
      "order": null,
      "overflow": null,
      "overflow_x": null,
      "overflow_y": null,
      "padding": null,
      "right": null,
      "top": null,
      "visibility": null,
      "width": null
     }
    },
    "49266dc4491d436dbd2971b5b731be40": {
     "model_module": "@jupyter-widgets/controls",
     "model_name": "HBoxModel",
     "state": {
      "_dom_classes": [],
      "_model_module": "@jupyter-widgets/controls",
      "_model_module_version": "1.5.0",
      "_model_name": "HBoxModel",
      "_view_count": null,
      "_view_module": "@jupyter-widgets/controls",
      "_view_module_version": "1.5.0",
      "_view_name": "HBoxView",
      "box_style": "",
      "children": [
       "IPY_MODEL_ba1fc07a72e2416c85ede7f0959e2faf",
       "IPY_MODEL_6d48700de2614b8a88603e5d6d97f13c"
      ],
      "layout": "IPY_MODEL_4e48f3051a5e48ef880ab100b332257b"
     }
    },
    "4e48f3051a5e48ef880ab100b332257b": {
     "model_module": "@jupyter-widgets/base",
     "model_name": "LayoutModel",
     "state": {
      "_model_module": "@jupyter-widgets/base",
      "_model_module_version": "1.2.0",
      "_model_name": "LayoutModel",
      "_view_count": null,
      "_view_module": "@jupyter-widgets/base",
      "_view_module_version": "1.2.0",
      "_view_name": "LayoutView",
      "align_content": null,
      "align_items": null,
      "align_self": null,
      "border": null,
      "bottom": null,
      "display": null,
      "flex": null,
      "flex_flow": null,
      "grid_area": null,
      "grid_auto_columns": null,
      "grid_auto_flow": null,
      "grid_auto_rows": null,
      "grid_column": null,
      "grid_gap": null,
      "grid_row": null,
      "grid_template_areas": null,
      "grid_template_columns": null,
      "grid_template_rows": null,
      "height": null,
      "justify_content": null,
      "justify_items": null,
      "left": null,
      "margin": null,
      "max_height": null,
      "max_width": null,
      "min_height": null,
      "min_width": null,
      "object_fit": null,
      "object_position": null,
      "order": null,
      "overflow": null,
      "overflow_x": null,
      "overflow_y": null,
      "padding": null,
      "right": null,
      "top": null,
      "visibility": null,
      "width": null
     }
    },
    "53e7c0c08ff84061a294c4d97c11c03b": {
     "model_module": "@jupyter-widgets/controls",
     "model_name": "IntProgressModel",
     "state": {
      "_dom_classes": [],
      "_model_module": "@jupyter-widgets/controls",
      "_model_module_version": "1.5.0",
      "_model_name": "IntProgressModel",
      "_view_count": null,
      "_view_module": "@jupyter-widgets/controls",
      "_view_module_version": "1.5.0",
      "_view_name": "ProgressView",
      "bar_style": "success",
      "description": "",
      "description_tooltip": null,
      "layout": "IPY_MODEL_35136b7cc26546aea65ac5c3cc3cad30",
      "max": 1,
      "min": 0,
      "orientation": "horizontal",
      "style": "IPY_MODEL_824cb2a27281408b80903f805595111c",
      "value": 1
     }
    },
    "589bd5419424481bb6acce1a5d874078": {
     "model_module": "@jupyter-widgets/base",
     "model_name": "LayoutModel",
     "state": {
      "_model_module": "@jupyter-widgets/base",
      "_model_module_version": "1.2.0",
      "_model_name": "LayoutModel",
      "_view_count": null,
      "_view_module": "@jupyter-widgets/base",
      "_view_module_version": "1.2.0",
      "_view_name": "LayoutView",
      "align_content": null,
      "align_items": null,
      "align_self": null,
      "border": null,
      "bottom": null,
      "display": null,
      "flex": null,
      "flex_flow": null,
      "grid_area": null,
      "grid_auto_columns": null,
      "grid_auto_flow": null,
      "grid_auto_rows": null,
      "grid_column": null,
      "grid_gap": null,
      "grid_row": null,
      "grid_template_areas": null,
      "grid_template_columns": null,
      "grid_template_rows": null,
      "height": null,
      "justify_content": null,
      "justify_items": null,
      "left": null,
      "margin": null,
      "max_height": null,
      "max_width": null,
      "min_height": null,
      "min_width": null,
      "object_fit": null,
      "object_position": null,
      "order": null,
      "overflow": null,
      "overflow_x": null,
      "overflow_y": null,
      "padding": null,
      "right": null,
      "top": null,
      "visibility": null,
      "width": null
     }
    },
    "5e80ea49bc16431cbbe1adcdc81a50db": {
     "model_module": "@jupyter-widgets/base",
     "model_name": "LayoutModel",
     "state": {
      "_model_module": "@jupyter-widgets/base",
      "_model_module_version": "1.2.0",
      "_model_name": "LayoutModel",
      "_view_count": null,
      "_view_module": "@jupyter-widgets/base",
      "_view_module_version": "1.2.0",
      "_view_name": "LayoutView",
      "align_content": null,
      "align_items": null,
      "align_self": null,
      "border": null,
      "bottom": null,
      "display": null,
      "flex": null,
      "flex_flow": null,
      "grid_area": null,
      "grid_auto_columns": null,
      "grid_auto_flow": null,
      "grid_auto_rows": null,
      "grid_column": null,
      "grid_gap": null,
      "grid_row": null,
      "grid_template_areas": null,
      "grid_template_columns": null,
      "grid_template_rows": null,
      "height": null,
      "justify_content": null,
      "justify_items": null,
      "left": null,
      "margin": null,
      "max_height": null,
      "max_width": null,
      "min_height": null,
      "min_width": null,
      "object_fit": null,
      "object_position": null,
      "order": null,
      "overflow": null,
      "overflow_x": null,
      "overflow_y": null,
      "padding": null,
      "right": null,
      "top": null,
      "visibility": null,
      "width": null
     }
    },
    "6d48700de2614b8a88603e5d6d97f13c": {
     "model_module": "@jupyter-widgets/controls",
     "model_name": "HTMLModel",
     "state": {
      "_dom_classes": [],
      "_model_module": "@jupyter-widgets/controls",
      "_model_module_version": "1.5.0",
      "_model_name": "HTMLModel",
      "_view_count": null,
      "_view_module": "@jupyter-widgets/controls",
      "_view_module_version": "1.5.0",
      "_view_name": "HTMLView",
      "description": "",
      "description_tooltip": null,
      "layout": "IPY_MODEL_5e80ea49bc16431cbbe1adcdc81a50db",
      "placeholder": "​",
      "style": "IPY_MODEL_c7e41cdd3b154b8c9de6742fae06120b",
      "value": " 8192/? [00:00&lt;00:00, 25409.55it/s]"
     }
    },
    "7881ae6c03f94aa79ab5264737ace0b5": {
     "model_module": "@jupyter-widgets/controls",
     "model_name": "DescriptionStyleModel",
     "state": {
      "_model_module": "@jupyter-widgets/controls",
      "_model_module_version": "1.5.0",
      "_model_name": "DescriptionStyleModel",
      "_view_count": null,
      "_view_module": "@jupyter-widgets/base",
      "_view_module_version": "1.2.0",
      "_view_name": "StyleView",
      "description_width": ""
     }
    },
    "7c03b708cb704666895e2471b418700f": {
     "model_module": "@jupyter-widgets/controls",
     "model_name": "HTMLModel",
     "state": {
      "_dom_classes": [],
      "_model_module": "@jupyter-widgets/controls",
      "_model_module_version": "1.5.0",
      "_model_name": "HTMLModel",
      "_view_count": null,
      "_view_module": "@jupyter-widgets/controls",
      "_view_module_version": "1.5.0",
      "_view_name": "HTMLView",
      "description": "",
      "description_tooltip": null,
      "layout": "IPY_MODEL_8150b569c8e04470a71af28905cc6d15",
      "placeholder": "​",
      "style": "IPY_MODEL_d706d5be5f2f4b99ae691ae5fcdecdb8",
      "value": " 32768/? [00:01&lt;00:00, 23667.85it/s]"
     }
    },
    "7c82c5696bf243d4b771e757f16e339f": {
     "model_module": "@jupyter-widgets/controls",
     "model_name": "HTMLModel",
     "state": {
      "_dom_classes": [],
      "_model_module": "@jupyter-widgets/controls",
      "_model_module_version": "1.5.0",
      "_model_name": "HTMLModel",
      "_view_count": null,
      "_view_module": "@jupyter-widgets/controls",
      "_view_module_version": "1.5.0",
      "_view_name": "HTMLView",
      "description": "",
      "description_tooltip": null,
      "layout": "IPY_MODEL_f6dc44afaaf54792b9f1f5d36025a240",
      "placeholder": "​",
      "style": "IPY_MODEL_7881ae6c03f94aa79ab5264737ace0b5",
      "value": " 9920512/? [00:20&lt;00:00, 1035522.83it/s]"
     }
    },
    "8150b569c8e04470a71af28905cc6d15": {
     "model_module": "@jupyter-widgets/base",
     "model_name": "LayoutModel",
     "state": {
      "_model_module": "@jupyter-widgets/base",
      "_model_module_version": "1.2.0",
      "_model_name": "LayoutModel",
      "_view_count": null,
      "_view_module": "@jupyter-widgets/base",
      "_view_module_version": "1.2.0",
      "_view_name": "LayoutView",
      "align_content": null,
      "align_items": null,
      "align_self": null,
      "border": null,
      "bottom": null,
      "display": null,
      "flex": null,
      "flex_flow": null,
      "grid_area": null,
      "grid_auto_columns": null,
      "grid_auto_flow": null,
      "grid_auto_rows": null,
      "grid_column": null,
      "grid_gap": null,
      "grid_row": null,
      "grid_template_areas": null,
      "grid_template_columns": null,
      "grid_template_rows": null,
      "height": null,
      "justify_content": null,
      "justify_items": null,
      "left": null,
      "margin": null,
      "max_height": null,
      "max_width": null,
      "min_height": null,
      "min_width": null,
      "object_fit": null,
      "object_position": null,
      "order": null,
      "overflow": null,
      "overflow_x": null,
      "overflow_y": null,
      "padding": null,
      "right": null,
      "top": null,
      "visibility": null,
      "width": null
     }
    },
    "824cb2a27281408b80903f805595111c": {
     "model_module": "@jupyter-widgets/controls",
     "model_name": "ProgressStyleModel",
     "state": {
      "_model_module": "@jupyter-widgets/controls",
      "_model_module_version": "1.5.0",
      "_model_name": "ProgressStyleModel",
      "_view_count": null,
      "_view_module": "@jupyter-widgets/base",
      "_view_module_version": "1.2.0",
      "_view_name": "StyleView",
      "bar_color": null,
      "description_width": "initial"
     }
    },
    "8667b4f015ae428883179043d7b44375": {
     "model_module": "@jupyter-widgets/controls",
     "model_name": "DescriptionStyleModel",
     "state": {
      "_model_module": "@jupyter-widgets/controls",
      "_model_module_version": "1.5.0",
      "_model_name": "DescriptionStyleModel",
      "_view_count": null,
      "_view_module": "@jupyter-widgets/base",
      "_view_module_version": "1.2.0",
      "_view_name": "StyleView",
      "description_width": ""
     }
    },
    "8935ff4d46b64afba6c7b3bbb1cc850b": {
     "model_module": "@jupyter-widgets/controls",
     "model_name": "ProgressStyleModel",
     "state": {
      "_model_module": "@jupyter-widgets/controls",
      "_model_module_version": "1.5.0",
      "_model_name": "ProgressStyleModel",
      "_view_count": null,
      "_view_module": "@jupyter-widgets/base",
      "_view_module_version": "1.2.0",
      "_view_name": "StyleView",
      "bar_color": null,
      "description_width": "initial"
     }
    },
    "a425993acb7d454e8ccf873ea23e3b4a": {
     "model_module": "@jupyter-widgets/controls",
     "model_name": "HBoxModel",
     "state": {
      "_dom_classes": [],
      "_model_module": "@jupyter-widgets/controls",
      "_model_module_version": "1.5.0",
      "_model_name": "HBoxModel",
      "_view_count": null,
      "_view_module": "@jupyter-widgets/controls",
      "_view_module_version": "1.5.0",
      "_view_name": "HBoxView",
      "box_style": "",
      "children": [
       "IPY_MODEL_b2451377773b44e39b73400d51b4e3f5",
       "IPY_MODEL_7c03b708cb704666895e2471b418700f"
      ],
      "layout": "IPY_MODEL_d0d358e35cf24cbeacc6ba344f569234"
     }
    },
    "b2451377773b44e39b73400d51b4e3f5": {
     "model_module": "@jupyter-widgets/controls",
     "model_name": "IntProgressModel",
     "state": {
      "_dom_classes": [],
      "_model_module": "@jupyter-widgets/controls",
      "_model_module_version": "1.5.0",
      "_model_name": "IntProgressModel",
      "_view_count": null,
      "_view_module": "@jupyter-widgets/controls",
      "_view_module_version": "1.5.0",
      "_view_name": "ProgressView",
      "bar_style": "success",
      "description": "",
      "description_tooltip": null,
      "layout": "IPY_MODEL_43792c5ab55740629de046222675bb3b",
      "max": 1,
      "min": 0,
      "orientation": "horizontal",
      "style": "IPY_MODEL_2de40f44d67949cb98bf88c1ab438cdc",
      "value": 1
     }
    },
    "ba1fc07a72e2416c85ede7f0959e2faf": {
     "model_module": "@jupyter-widgets/controls",
     "model_name": "IntProgressModel",
     "state": {
      "_dom_classes": [],
      "_model_module": "@jupyter-widgets/controls",
      "_model_module_version": "1.5.0",
      "_model_name": "IntProgressModel",
      "_view_count": null,
      "_view_module": "@jupyter-widgets/controls",
      "_view_module_version": "1.5.0",
      "_view_name": "ProgressView",
      "bar_style": "success",
      "description": "",
      "description_tooltip": null,
      "layout": "IPY_MODEL_e5b58518eaed4218be65d6a56ed23fb9",
      "max": 1,
      "min": 0,
      "orientation": "horizontal",
      "style": "IPY_MODEL_e32588dc21cd437786917cd1a59e6fff",
      "value": 1
     }
    },
    "beeaa44c4a71421f912c1b1e08ef9e89": {
     "model_module": "@jupyter-widgets/base",
     "model_name": "LayoutModel",
     "state": {
      "_model_module": "@jupyter-widgets/base",
      "_model_module_version": "1.2.0",
      "_model_name": "LayoutModel",
      "_view_count": null,
      "_view_module": "@jupyter-widgets/base",
      "_view_module_version": "1.2.0",
      "_view_name": "LayoutView",
      "align_content": null,
      "align_items": null,
      "align_self": null,
      "border": null,
      "bottom": null,
      "display": null,
      "flex": null,
      "flex_flow": null,
      "grid_area": null,
      "grid_auto_columns": null,
      "grid_auto_flow": null,
      "grid_auto_rows": null,
      "grid_column": null,
      "grid_gap": null,
      "grid_row": null,
      "grid_template_areas": null,
      "grid_template_columns": null,
      "grid_template_rows": null,
      "height": null,
      "justify_content": null,
      "justify_items": null,
      "left": null,
      "margin": null,
      "max_height": null,
      "max_width": null,
      "min_height": null,
      "min_width": null,
      "object_fit": null,
      "object_position": null,
      "order": null,
      "overflow": null,
      "overflow_x": null,
      "overflow_y": null,
      "padding": null,
      "right": null,
      "top": null,
      "visibility": null,
      "width": null
     }
    },
    "c7e41cdd3b154b8c9de6742fae06120b": {
     "model_module": "@jupyter-widgets/controls",
     "model_name": "DescriptionStyleModel",
     "state": {
      "_model_module": "@jupyter-widgets/controls",
      "_model_module_version": "1.5.0",
      "_model_name": "DescriptionStyleModel",
      "_view_count": null,
      "_view_module": "@jupyter-widgets/base",
      "_view_module_version": "1.2.0",
      "_view_name": "StyleView",
      "description_width": ""
     }
    },
    "cb7d27331fa245c08ca5802db05a5dd8": {
     "model_module": "@jupyter-widgets/controls",
     "model_name": "HTMLModel",
     "state": {
      "_dom_classes": [],
      "_model_module": "@jupyter-widgets/controls",
      "_model_module_version": "1.5.0",
      "_model_name": "HTMLModel",
      "_view_count": null,
      "_view_module": "@jupyter-widgets/controls",
      "_view_module_version": "1.5.0",
      "_view_name": "HTMLView",
      "description": "",
      "description_tooltip": null,
      "layout": "IPY_MODEL_beeaa44c4a71421f912c1b1e08ef9e89",
      "placeholder": "​",
      "style": "IPY_MODEL_8667b4f015ae428883179043d7b44375",
      "value": " 1654784/? [00:01&lt;00:00, 1523693.05it/s]"
     }
    },
    "d0d358e35cf24cbeacc6ba344f569234": {
     "model_module": "@jupyter-widgets/base",
     "model_name": "LayoutModel",
     "state": {
      "_model_module": "@jupyter-widgets/base",
      "_model_module_version": "1.2.0",
      "_model_name": "LayoutModel",
      "_view_count": null,
      "_view_module": "@jupyter-widgets/base",
      "_view_module_version": "1.2.0",
      "_view_name": "LayoutView",
      "align_content": null,
      "align_items": null,
      "align_self": null,
      "border": null,
      "bottom": null,
      "display": null,
      "flex": null,
      "flex_flow": null,
      "grid_area": null,
      "grid_auto_columns": null,
      "grid_auto_flow": null,
      "grid_auto_rows": null,
      "grid_column": null,
      "grid_gap": null,
      "grid_row": null,
      "grid_template_areas": null,
      "grid_template_columns": null,
      "grid_template_rows": null,
      "height": null,
      "justify_content": null,
      "justify_items": null,
      "left": null,
      "margin": null,
      "max_height": null,
      "max_width": null,
      "min_height": null,
      "min_width": null,
      "object_fit": null,
      "object_position": null,
      "order": null,
      "overflow": null,
      "overflow_x": null,
      "overflow_y": null,
      "padding": null,
      "right": null,
      "top": null,
      "visibility": null,
      "width": null
     }
    },
    "d706d5be5f2f4b99ae691ae5fcdecdb8": {
     "model_module": "@jupyter-widgets/controls",
     "model_name": "DescriptionStyleModel",
     "state": {
      "_model_module": "@jupyter-widgets/controls",
      "_model_module_version": "1.5.0",
      "_model_name": "DescriptionStyleModel",
      "_view_count": null,
      "_view_module": "@jupyter-widgets/base",
      "_view_module_version": "1.2.0",
      "_view_name": "StyleView",
      "description_width": ""
     }
    },
    "e32588dc21cd437786917cd1a59e6fff": {
     "model_module": "@jupyter-widgets/controls",
     "model_name": "ProgressStyleModel",
     "state": {
      "_model_module": "@jupyter-widgets/controls",
      "_model_module_version": "1.5.0",
      "_model_name": "ProgressStyleModel",
      "_view_count": null,
      "_view_module": "@jupyter-widgets/base",
      "_view_module_version": "1.2.0",
      "_view_name": "StyleView",
      "bar_color": null,
      "description_width": "initial"
     }
    },
    "e5b58518eaed4218be65d6a56ed23fb9": {
     "model_module": "@jupyter-widgets/base",
     "model_name": "LayoutModel",
     "state": {
      "_model_module": "@jupyter-widgets/base",
      "_model_module_version": "1.2.0",
      "_model_name": "LayoutModel",
      "_view_count": null,
      "_view_module": "@jupyter-widgets/base",
      "_view_module_version": "1.2.0",
      "_view_name": "LayoutView",
      "align_content": null,
      "align_items": null,
      "align_self": null,
      "border": null,
      "bottom": null,
      "display": null,
      "flex": null,
      "flex_flow": null,
      "grid_area": null,
      "grid_auto_columns": null,
      "grid_auto_flow": null,
      "grid_auto_rows": null,
      "grid_column": null,
      "grid_gap": null,
      "grid_row": null,
      "grid_template_areas": null,
      "grid_template_columns": null,
      "grid_template_rows": null,
      "height": null,
      "justify_content": null,
      "justify_items": null,
      "left": null,
      "margin": null,
      "max_height": null,
      "max_width": null,
      "min_height": null,
      "min_width": null,
      "object_fit": null,
      "object_position": null,
      "order": null,
      "overflow": null,
      "overflow_x": null,
      "overflow_y": null,
      "padding": null,
      "right": null,
      "top": null,
      "visibility": null,
      "width": null
     }
    },
    "ebf20184873148a7925e36accb6ae766": {
     "model_module": "@jupyter-widgets/controls",
     "model_name": "IntProgressModel",
     "state": {
      "_dom_classes": [],
      "_model_module": "@jupyter-widgets/controls",
      "_model_module_version": "1.5.0",
      "_model_name": "IntProgressModel",
      "_view_count": null,
      "_view_module": "@jupyter-widgets/controls",
      "_view_module_version": "1.5.0",
      "_view_name": "ProgressView",
      "bar_style": "info",
      "description": "",
      "description_tooltip": null,
      "layout": "IPY_MODEL_fbc0dd13019240b9a1c6f4951cfc4132",
      "max": 1,
      "min": 0,
      "orientation": "horizontal",
      "style": "IPY_MODEL_8935ff4d46b64afba6c7b3bbb1cc850b",
      "value": 1
     }
    },
    "f680b7f700a24e1282a15e0aba6da54f": {
     "model_module": "@jupyter-widgets/controls",
     "model_name": "HBoxModel",
     "state": {
      "_dom_classes": [],
      "_model_module": "@jupyter-widgets/controls",
      "_model_module_version": "1.5.0",
      "_model_name": "HBoxModel",
      "_view_count": null,
      "_view_module": "@jupyter-widgets/controls",
      "_view_module_version": "1.5.0",
      "_view_name": "HBoxView",
      "box_style": "",
      "children": [
       "IPY_MODEL_ebf20184873148a7925e36accb6ae766",
       "IPY_MODEL_7c82c5696bf243d4b771e757f16e339f"
      ],
      "layout": "IPY_MODEL_589bd5419424481bb6acce1a5d874078"
     }
    },
    "f6dc44afaaf54792b9f1f5d36025a240": {
     "model_module": "@jupyter-widgets/base",
     "model_name": "LayoutModel",
     "state": {
      "_model_module": "@jupyter-widgets/base",
      "_model_module_version": "1.2.0",
      "_model_name": "LayoutModel",
      "_view_count": null,
      "_view_module": "@jupyter-widgets/base",
      "_view_module_version": "1.2.0",
      "_view_name": "LayoutView",
      "align_content": null,
      "align_items": null,
      "align_self": null,
      "border": null,
      "bottom": null,
      "display": null,
      "flex": null,
      "flex_flow": null,
      "grid_area": null,
      "grid_auto_columns": null,
      "grid_auto_flow": null,
      "grid_auto_rows": null,
      "grid_column": null,
      "grid_gap": null,
      "grid_row": null,
      "grid_template_areas": null,
      "grid_template_columns": null,
      "grid_template_rows": null,
      "height": null,
      "justify_content": null,
      "justify_items": null,
      "left": null,
      "margin": null,
      "max_height": null,
      "max_width": null,
      "min_height": null,
      "min_width": null,
      "object_fit": null,
      "object_position": null,
      "order": null,
      "overflow": null,
      "overflow_x": null,
      "overflow_y": null,
      "padding": null,
      "right": null,
      "top": null,
      "visibility": null,
      "width": null
     }
    },
    "fbc0dd13019240b9a1c6f4951cfc4132": {
     "model_module": "@jupyter-widgets/base",
     "model_name": "LayoutModel",
     "state": {
      "_model_module": "@jupyter-widgets/base",
      "_model_module_version": "1.2.0",
      "_model_name": "LayoutModel",
      "_view_count": null,
      "_view_module": "@jupyter-widgets/base",
      "_view_module_version": "1.2.0",
      "_view_name": "LayoutView",
      "align_content": null,
      "align_items": null,
      "align_self": null,
      "border": null,
      "bottom": null,
      "display": null,
      "flex": null,
      "flex_flow": null,
      "grid_area": null,
      "grid_auto_columns": null,
      "grid_auto_flow": null,
      "grid_auto_rows": null,
      "grid_column": null,
      "grid_gap": null,
      "grid_row": null,
      "grid_template_areas": null,
      "grid_template_columns": null,
      "grid_template_rows": null,
      "height": null,
      "justify_content": null,
      "justify_items": null,
      "left": null,
      "margin": null,
      "max_height": null,
      "max_width": null,
      "min_height": null,
      "min_width": null,
      "object_fit": null,
      "object_position": null,
      "order": null,
      "overflow": null,
      "overflow_x": null,
      "overflow_y": null,
      "padding": null,
      "right": null,
      "top": null,
      "visibility": null,
      "width": null
     }
    }
   }
  }
 },
 "nbformat": 4,
 "nbformat_minor": 1
}
